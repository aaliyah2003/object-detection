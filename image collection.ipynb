{
 "cells": [
  {
   "cell_type": "code",
   "execution_count": 2,
   "id": "927b6a05-7107-41ba-bacc-93a5ed617945",
   "metadata": {},
   "outputs": [],
   "source": [
    "#1. importing out dependecies"
   ]
  },
  {
   "cell_type": "code",
   "execution_count": 1,
   "id": "06dfbdcf-5d44-4249-9ed9-ab8ef966021c",
   "metadata": {
    "scrolled": true
   },
   "outputs": [
    {
     "name": "stdout",
     "output_type": "stream",
     "text": [
      "Requirement already satisfied: opencv-python in c:\\users\\aaliy\\onedrive\\desktop\\livestream\\realtimeobjectdetection\\objectdetection\\lib\\site-packages (4.12.0.88)\n",
      "Requirement already satisfied: numpy<2.0 in c:\\users\\aaliy\\onedrive\\desktop\\livestream\\realtimeobjectdetection\\objectdetection\\lib\\site-packages (from opencv-python) (1.24.4)\n"
     ]
    },
    {
     "name": "stderr",
     "output_type": "stream",
     "text": [
      "\n",
      "[notice] A new release of pip is available: 25.0.1 -> 25.1.1\n",
      "[notice] To update, run: python.exe -m pip install --upgrade pip\n"
     ]
    }
   ],
   "source": [
    "!pip install opencv-python\n"
   ]
  },
  {
   "cell_type": "code",
   "execution_count": 2,
   "id": "13503ac5-6925-4959-9d1d-6df003b9684c",
   "metadata": {},
   "outputs": [],
   "source": [
    "# Import opencv\n",
    "import cv2 \n",
    "\n",
    "# Import uuid\n",
    "import uuid\n",
    "\n",
    "# Import Operating System\n",
    "import os\n",
    "\n",
    "# Import time\n",
    "import time"
   ]
  },
  {
   "cell_type": "code",
   "execution_count": 3,
   "id": "916c72fb-3b13-4089-97b5-c67fe90a0ca8",
   "metadata": {},
   "outputs": [],
   "source": [
    "IMAGES_PATH = 'Tensorflow/workspace/images/collectedimages'"
   ]
  },
  {
   "cell_type": "code",
   "execution_count": 4,
   "id": "c679a4de-c106-440e-ab28-7d0dc24dc787",
   "metadata": {
    "jupyter": {
     "source_hidden": true
    }
   },
   "outputs": [],
   "source": [
    "labels = ['hello', 'thanks', 'iloveyou', 'yes', 'no']\n",
    "number_imgs = 10"
   ]
  },
  {
   "cell_type": "code",
   "execution_count": 5,
   "id": "23db82a7-2cc2-48e5-b23c-91897c9e8e74",
   "metadata": {
    "scrolled": true
   },
   "outputs": [
    {
     "name": "stderr",
     "output_type": "stream",
     "text": [
      "A subdirectory or file Tensorflow\\workspace\\images\\collectedimages\\hello already exists.\n"
     ]
    },
    {
     "name": "stdout",
     "output_type": "stream",
     "text": [
      "Collecting images for hello\n",
      "Collecting image 0\n",
      "Collecting image 1\n",
      "Collecting image 2\n",
      "Collecting image 3\n",
      "Collecting image 4\n",
      "Collecting image 5\n",
      "Collecting image 6\n",
      "Collecting image 7\n",
      "Collecting image 8\n",
      "Collecting image 9\n"
     ]
    },
    {
     "name": "stderr",
     "output_type": "stream",
     "text": [
      "A subdirectory or file Tensorflow\\workspace\\images\\collectedimages\\thanks already exists.\n"
     ]
    },
    {
     "name": "stdout",
     "output_type": "stream",
     "text": [
      "Collecting images for thanks\n",
      "Collecting image 0\n",
      "Collecting image 1\n",
      "Collecting image 2\n",
      "Collecting image 3\n",
      "Collecting image 4\n",
      "Collecting image 5\n",
      "Collecting image 6\n",
      "Collecting image 7\n",
      "Collecting image 8\n",
      "Collecting image 9\n"
     ]
    },
    {
     "name": "stderr",
     "output_type": "stream",
     "text": [
      "A subdirectory or file Tensorflow\\workspace\\images\\collectedimages\\iloveyou already exists.\n"
     ]
    },
    {
     "name": "stdout",
     "output_type": "stream",
     "text": [
      "Collecting images for iloveyou\n",
      "Collecting image 0\n",
      "Collecting image 1\n",
      "Collecting image 2\n",
      "Collecting image 3\n",
      "Collecting image 4\n",
      "Collecting image 5\n",
      "Collecting image 6\n",
      "Collecting image 7\n",
      "Collecting image 8\n",
      "Collecting image 9\n"
     ]
    },
    {
     "name": "stderr",
     "output_type": "stream",
     "text": [
      "A subdirectory or file Tensorflow\\workspace\\images\\collectedimages\\yes already exists.\n"
     ]
    },
    {
     "name": "stdout",
     "output_type": "stream",
     "text": [
      "Collecting images for yes\n",
      "Collecting image 0\n",
      "Collecting image 1\n",
      "Collecting image 2\n",
      "Collecting image 3\n",
      "Collecting image 4\n",
      "Collecting image 5\n",
      "Collecting image 6\n",
      "Collecting image 7\n",
      "Collecting image 8\n",
      "Collecting image 9\n"
     ]
    },
    {
     "name": "stderr",
     "output_type": "stream",
     "text": [
      "A subdirectory or file Tensorflow\\workspace\\images\\collectedimages\\no already exists.\n"
     ]
    },
    {
     "name": "stdout",
     "output_type": "stream",
     "text": [
      "Collecting images for no\n",
      "Collecting image 0\n",
      "Collecting image 1\n",
      "Collecting image 2\n",
      "Collecting image 3\n",
      "Collecting image 4\n",
      "Collecting image 5\n",
      "Collecting image 6\n",
      "Collecting image 7\n",
      "Collecting image 8\n",
      "Collecting image 9\n"
     ]
    }
   ],
   "source": [
    "for label in labels:\n",
    "    !mkdir {'Tensorflow\\workspace\\images\\collectedimages\\\\'+label}\n",
    "    cap = cv2.VideoCapture(0)\n",
    "    print('Collecting images for {}'.format(label))\n",
    "    time.sleep(5)\n",
    "    for imgnum in range(10): \n",
    "        print('Collecting image {}'.format(imgnum))\n",
    "        ret, frame = cap.read()\n",
    "        imgname = os.path.join(IMAGES_PATH,label,label+'.'+'{}.jpg'.format(str(uuid.uuid1())))\n",
    "        cv2.imwrite(imgname, frame)\n",
    "        cv2.imshow('frame', frame)\n",
    "        time.sleep(2)\n",
    "\n",
    "        if cv2.waitKey(1) & 0xFF == ord('q'):\n",
    "            break\n",
    "    cap.release()"
   ]
  },
  {
   "cell_type": "code",
   "execution_count": 6,
   "id": "f8bc413a-2332-4bad-93d2-0fdb507d90bc",
   "metadata": {},
   "outputs": [],
   "source": [
    "cap.release()\n"
   ]
  },
  {
   "cell_type": "code",
   "execution_count": 7,
   "id": "87e3b1fb-e19b-4f94-a92d-508150754100",
   "metadata": {},
   "outputs": [],
   "source": [
    "cv2.destroyAllWindows()"
   ]
  },
  {
   "cell_type": "code",
   "execution_count": 1,
   "id": "d6fdb18b-f6d3-40c6-8d7f-870a8b4ca2b3",
   "metadata": {},
   "outputs": [
    {
     "ename": "NameError",
     "evalue": "name 'labels' is not defined",
     "output_type": "error",
     "traceback": [
      "\u001b[1;31m---------------------------------------------------------------------------\u001b[0m",
      "\u001b[1;31mNameError\u001b[0m                                 Traceback (most recent call last)",
      "Cell \u001b[1;32mIn[1], line 1\u001b[0m\n\u001b[1;32m----> 1\u001b[0m \u001b[38;5;28;01mfor\u001b[39;00m label \u001b[38;5;129;01min\u001b[39;00m \u001b[43mlabels\u001b[49m:\n\u001b[0;32m      2\u001b[0m     get_ipython()\u001b[38;5;241m.\u001b[39msystem(\u001b[38;5;124m\"\u001b[39m\u001b[38;5;124mmkdir \u001b[39m\u001b[38;5;124m{\u001b[39m\u001b[38;5;124m'\u001b[39m\u001b[38;5;124mTensorflow\u001b[39m\u001b[38;5;130;01m\\\\\u001b[39;00m\u001b[38;5;124mworkspace\u001b[39m\u001b[38;5;130;01m\\\\\u001b[39;00m\u001b[38;5;124mimages\u001b[39m\u001b[38;5;130;01m\\\\\u001b[39;00m\u001b[38;5;124mcollectedimages\u001b[39m\u001b[38;5;130;01m\\\\\u001b[39;00m\u001b[38;5;130;01m\\\\\u001b[39;00m\u001b[38;5;124m'\u001b[39m\u001b[38;5;124m+label}\u001b[39m\u001b[38;5;124m\"\u001b[39m)\n\u001b[0;32m      3\u001b[0m     cap \u001b[38;5;241m=\u001b[39m cv2\u001b[38;5;241m.\u001b[39mVideoCapture(\u001b[38;5;241m1\u001b[39m)\n",
      "\u001b[1;31mNameError\u001b[0m: name 'labels' is not defined"
     ]
    }
   ],
   "source": [
    "for label in labels:\n",
    "    !mkdir {'Tensorflow\\workspace\\images\\collectedimages\\\\'+label}\n",
    "    cap = cv2.VideoCapture(1)\n",
    "    print('Collecting images for {}'.format(label))\n",
    "    time.sleep(5)\n",
    "    for imgnum in range(10): \n",
    "        print('Collecting image {}'.format(imgnum))\n",
    "        ret, frame = cap.read()\n",
    "        imgname = os.path.join(IMAGES_PATH,label,label+'.'+'{}.jpg'.format(str(uuid.uuid1())))\n",
    "        cv2.imwrite(imgname, frame)\n",
    "        cv2.imshow('frame', frame)\n",
    "        time.sleep(2)\n",
    "\n",
    "        if cv2.waitKey(1) & 0xFF == ord('q'):\n",
    "            break\n",
    "    cap.release()\n",
    "cv2.destroyAllWindows()"
   ]
  },
  {
   "cell_type": "code",
   "execution_count": 10,
   "id": "fc6ed7b4-9186-4301-84b7-32b5254e4f28",
   "metadata": {},
   "outputs": [],
   "source": [
    "#5. Label images"
   ]
  },
  {
   "cell_type": "code",
   "execution_count": 11,
   "id": "100004bb-2418-46a6-8a17-40918728ce1f",
   "metadata": {
    "scrolled": true
   },
   "outputs": [
    {
     "name": "stdout",
     "output_type": "stream",
     "text": [
      "Collecting pyqt5"
     ]
    },
    {
     "name": "stderr",
     "output_type": "stream",
     "text": [
      "\n",
      "[notice] A new release of pip is available: 25.0.1 -> 25.1.1\n",
      "[notice] To update, run: python.exe -m pip install --upgrade pip\n"
     ]
    },
    {
     "name": "stdout",
     "output_type": "stream",
     "text": [
      "\n",
      "  Downloading PyQt5-5.15.11-cp38-abi3-win_amd64.whl.metadata (2.1 kB)\n",
      "Collecting lxml\n",
      "  Using cached lxml-6.0.0-cp38-cp38-win_amd64.whl.metadata (6.5 kB)\n",
      "Collecting PyQt5-sip<13,>=12.15 (from pyqt5)\n",
      "  Downloading PyQt5_sip-12.15.0-cp38-cp38-win_amd64.whl.metadata (439 bytes)\n",
      "Collecting PyQt5-Qt5<5.16.0,>=5.15.2 (from pyqt5)\n",
      "  Downloading PyQt5_Qt5-5.15.2-py3-none-win_amd64.whl.metadata (552 bytes)\n",
      "Downloading PyQt5-5.15.11-cp38-abi3-win_amd64.whl (6.9 MB)\n",
      "   ---------------------------------------- 0.0/6.9 MB ? eta -:--:--\n",
      "   ---------------------------------------- 0.0/6.9 MB ? eta -:--:--\n",
      "   - -------------------------------------- 0.3/6.9 MB ? eta -:--:--\n",
      "   --- ------------------------------------ 0.5/6.9 MB 885.6 kB/s eta 0:00:08\n",
      "   ---- ----------------------------------- 0.8/6.9 MB 1.0 MB/s eta 0:00:06\n",
      "   ------ --------------------------------- 1.0/6.9 MB 1.1 MB/s eta 0:00:06\n",
      "   ------- -------------------------------- 1.3/6.9 MB 1.2 MB/s eta 0:00:05\n",
      "   ---------- ----------------------------- 1.8/6.9 MB 1.4 MB/s eta 0:00:04\n",
      "   ------------ --------------------------- 2.1/6.9 MB 1.4 MB/s eta 0:00:04\n",
      "   ------------- -------------------------- 2.4/6.9 MB 1.4 MB/s eta 0:00:04\n",
      "   ---------------- ----------------------- 2.9/6.9 MB 1.5 MB/s eta 0:00:03\n",
      "   ------------------- -------------------- 3.4/6.9 MB 1.6 MB/s eta 0:00:03\n",
      "   ---------------------- ----------------- 3.9/6.9 MB 1.7 MB/s eta 0:00:02\n",
      "   ------------------------- -------------- 4.5/6.9 MB 1.8 MB/s eta 0:00:02\n",
      "   ----------------------------- ---------- 5.0/6.9 MB 1.8 MB/s eta 0:00:02\n",
      "   -------------------------------- ------- 5.5/6.9 MB 1.9 MB/s eta 0:00:01\n",
      "   ------------------------------------ --- 6.3/6.9 MB 2.0 MB/s eta 0:00:01\n",
      "   ---------------------------------------  6.8/6.9 MB 2.0 MB/s eta 0:00:01\n",
      "   ---------------------------------------- 6.9/6.9 MB 2.0 MB/s eta 0:00:00\n",
      "Downloading lxml-6.0.0-cp38-cp38-win_amd64.whl (4.0 MB)\n",
      "   ---------------------------------------- 0.0/4.0 MB ? eta -:--:--\n",
      "   ----- ---------------------------------- 0.5/4.0 MB 2.8 MB/s eta 0:00:02\n",
      "   ------------- -------------------------- 1.3/4.0 MB 3.4 MB/s eta 0:00:01\n",
      "   ------------------ --------------------- 1.8/4.0 MB 3.2 MB/s eta 0:00:01\n",
      "   -------------------------- ------------- 2.6/4.0 MB 3.2 MB/s eta 0:00:01\n",
      "   --------------------------------- ------ 3.4/4.0 MB 3.2 MB/s eta 0:00:01\n",
      "   ---------------------------------------- 4.0/4.0 MB 3.2 MB/s eta 0:00:00\n",
      "Downloading PyQt5_Qt5-5.15.2-py3-none-win_amd64.whl (50.1 MB)\n",
      "   ---------------------------------------- 0.0/50.1 MB ? eta -:--:--\n",
      "   ---------------------------------------- 0.5/50.1 MB 2.8 MB/s eta 0:00:18\n",
      "   - -------------------------------------- 1.3/50.1 MB 3.0 MB/s eta 0:00:16\n",
      "   - -------------------------------------- 2.1/50.1 MB 3.4 MB/s eta 0:00:15\n",
      "   - -------------------------------------- 2.1/50.1 MB 3.4 MB/s eta 0:00:15\n",
      "   - -------------------------------------- 2.4/50.1 MB 2.2 MB/s eta 0:00:22\n",
      "   -- ------------------------------------- 2.6/50.1 MB 1.9 MB/s eta 0:00:26\n",
      "   -- ------------------------------------- 2.9/50.1 MB 1.8 MB/s eta 0:00:27\n",
      "   -- ------------------------------------- 3.1/50.1 MB 1.7 MB/s eta 0:00:28\n",
      "   -- ------------------------------------- 3.4/50.1 MB 1.7 MB/s eta 0:00:29\n",
      "   -- ------------------------------------- 3.7/50.1 MB 1.6 MB/s eta 0:00:29\n",
      "   --- ------------------------------------ 3.9/50.1 MB 1.6 MB/s eta 0:00:29\n",
      "   --- ------------------------------------ 4.5/50.1 MB 1.6 MB/s eta 0:00:28\n",
      "   --- ------------------------------------ 4.7/50.1 MB 1.7 MB/s eta 0:00:27\n",
      "   ---- ----------------------------------- 5.2/50.1 MB 1.7 MB/s eta 0:00:27\n",
      "   ---- ----------------------------------- 5.5/50.1 MB 1.7 MB/s eta 0:00:27\n",
      "   ---- ----------------------------------- 5.8/50.1 MB 1.6 MB/s eta 0:00:27\n",
      "   ----- ---------------------------------- 6.3/50.1 MB 1.7 MB/s eta 0:00:27\n",
      "   ----- ---------------------------------- 6.6/50.1 MB 1.7 MB/s eta 0:00:27\n",
      "   ----- ---------------------------------- 6.8/50.1 MB 1.6 MB/s eta 0:00:27\n",
      "   ----- ---------------------------------- 7.1/50.1 MB 1.6 MB/s eta 0:00:27\n",
      "   ----- ---------------------------------- 7.3/50.1 MB 1.6 MB/s eta 0:00:27\n",
      "   ------ --------------------------------- 7.6/50.1 MB 1.6 MB/s eta 0:00:27\n",
      "   ------ --------------------------------- 7.9/50.1 MB 1.6 MB/s eta 0:00:27\n",
      "   ------ --------------------------------- 8.4/50.1 MB 1.6 MB/s eta 0:00:27\n",
      "   ------ --------------------------------- 8.7/50.1 MB 1.6 MB/s eta 0:00:27\n",
      "   ------ --------------------------------- 8.7/50.1 MB 1.6 MB/s eta 0:00:27\n",
      "   ------- -------------------------------- 8.9/50.1 MB 1.5 MB/s eta 0:00:28\n",
      "   ------- -------------------------------- 9.2/50.1 MB 1.5 MB/s eta 0:00:27\n",
      "   ------- -------------------------------- 9.7/50.1 MB 1.5 MB/s eta 0:00:27\n",
      "   -------- ------------------------------- 10.2/50.1 MB 1.6 MB/s eta 0:00:26\n",
      "   -------- ------------------------------- 10.7/50.1 MB 1.6 MB/s eta 0:00:25\n",
      "   --------- ------------------------------ 11.5/50.1 MB 1.7 MB/s eta 0:00:24\n",
      "   --------- ------------------------------ 12.1/50.1 MB 1.7 MB/s eta 0:00:23\n",
      "   --------- ------------------------------ 12.3/50.1 MB 1.7 MB/s eta 0:00:23\n",
      "   --------- ------------------------------ 12.3/50.1 MB 1.7 MB/s eta 0:00:23\n",
      "   ---------- ----------------------------- 12.6/50.1 MB 1.6 MB/s eta 0:00:24\n",
      "   ---------- ----------------------------- 12.6/50.1 MB 1.6 MB/s eta 0:00:24\n",
      "   ---------- ----------------------------- 12.8/50.1 MB 1.6 MB/s eta 0:00:24\n",
      "   ---------- ----------------------------- 13.1/50.1 MB 1.5 MB/s eta 0:00:25\n",
      "   ---------- ----------------------------- 13.4/50.1 MB 1.5 MB/s eta 0:00:24\n",
      "   ---------- ----------------------------- 13.6/50.1 MB 1.5 MB/s eta 0:00:24\n",
      "   ----------- ---------------------------- 13.9/50.1 MB 1.5 MB/s eta 0:00:24\n",
      "   ----------- ---------------------------- 14.2/50.1 MB 1.5 MB/s eta 0:00:24\n",
      "   ----------- ---------------------------- 14.4/50.1 MB 1.5 MB/s eta 0:00:24\n",
      "   ------------ --------------------------- 15.2/50.1 MB 1.5 MB/s eta 0:00:23\n",
      "   ------------ --------------------------- 15.7/50.1 MB 1.6 MB/s eta 0:00:23\n",
      "   ------------ --------------------------- 16.0/50.1 MB 1.6 MB/s eta 0:00:22\n",
      "   ------------- -------------------------- 16.5/50.1 MB 1.6 MB/s eta 0:00:22\n",
      "   ------------- -------------------------- 17.3/50.1 MB 1.6 MB/s eta 0:00:21\n",
      "   ------------- -------------------------- 17.3/50.1 MB 1.6 MB/s eta 0:00:21\n",
      "   -------------- ------------------------- 18.1/50.1 MB 1.6 MB/s eta 0:00:20\n",
      "   --------------- ------------------------ 18.9/50.1 MB 1.7 MB/s eta 0:00:19\n",
      "   --------------- ------------------------ 19.1/50.1 MB 1.7 MB/s eta 0:00:19\n",
      "   --------------- ------------------------ 19.4/50.1 MB 1.7 MB/s eta 0:00:19\n",
      "   ---------------- ----------------------- 20.2/50.1 MB 1.7 MB/s eta 0:00:18\n",
      "   ---------------- ----------------------- 20.2/50.1 MB 1.7 MB/s eta 0:00:18\n",
      "   ---------------- ----------------------- 20.7/50.1 MB 1.7 MB/s eta 0:00:18\n",
      "   ---------------- ----------------------- 20.7/50.1 MB 1.7 MB/s eta 0:00:18\n",
      "   ---------------- ----------------------- 21.0/50.1 MB 1.6 MB/s eta 0:00:18\n",
      "   ---------------- ----------------------- 21.2/50.1 MB 1.6 MB/s eta 0:00:18\n",
      "   ---------------- ----------------------- 21.2/50.1 MB 1.6 MB/s eta 0:00:18\n",
      "   ----------------- ---------------------- 21.5/50.1 MB 1.6 MB/s eta 0:00:18\n",
      "   ----------------- ---------------------- 21.5/50.1 MB 1.6 MB/s eta 0:00:18\n",
      "   ----------------- ---------------------- 21.5/50.1 MB 1.6 MB/s eta 0:00:18\n",
      "   ----------------- ---------------------- 21.8/50.1 MB 1.6 MB/s eta 0:00:19\n",
      "   ----------------- ---------------------- 22.0/50.1 MB 1.5 MB/s eta 0:00:19\n",
      "   ----------------- ---------------------- 22.0/50.1 MB 1.5 MB/s eta 0:00:19\n",
      "   ----------------- ---------------------- 22.3/50.1 MB 1.5 MB/s eta 0:00:19\n",
      "   ----------------- ---------------------- 22.3/50.1 MB 1.5 MB/s eta 0:00:19\n",
      "   ------------------ --------------------- 22.5/50.1 MB 1.5 MB/s eta 0:00:19\n",
      "   ------------------ --------------------- 22.5/50.1 MB 1.5 MB/s eta 0:00:19\n",
      "   ------------------ --------------------- 22.8/50.1 MB 1.5 MB/s eta 0:00:19\n",
      "   ------------------ --------------------- 23.1/50.1 MB 1.5 MB/s eta 0:00:19\n",
      "   ------------------ --------------------- 23.1/50.1 MB 1.5 MB/s eta 0:00:19\n",
      "   ------------------ --------------------- 23.3/50.1 MB 1.4 MB/s eta 0:00:19\n",
      "   ------------------ --------------------- 23.6/50.1 MB 1.4 MB/s eta 0:00:19\n",
      "   ------------------ --------------------- 23.6/50.1 MB 1.4 MB/s eta 0:00:19\n",
      "   ------------------- -------------------- 24.1/50.1 MB 1.4 MB/s eta 0:00:19\n",
      "   ------------------- -------------------- 24.6/50.1 MB 1.4 MB/s eta 0:00:18\n",
      "   -------------------- ------------------- 25.2/50.1 MB 1.5 MB/s eta 0:00:18\n",
      "   -------------------- ------------------- 26.0/50.1 MB 1.5 MB/s eta 0:00:17\n",
      "   --------------------- ------------------ 26.5/50.1 MB 1.5 MB/s eta 0:00:16\n",
      "   --------------------- ------------------ 27.0/50.1 MB 1.5 MB/s eta 0:00:16\n",
      "   ---------------------- ----------------- 27.8/50.1 MB 1.5 MB/s eta 0:00:15\n",
      "   ---------------------- ----------------- 28.3/50.1 MB 1.6 MB/s eta 0:00:15\n",
      "   ----------------------- ---------------- 28.8/50.1 MB 1.6 MB/s eta 0:00:14\n",
      "   ----------------------- ---------------- 29.4/50.1 MB 1.6 MB/s eta 0:00:14\n",
      "   ----------------------- ---------------- 29.9/50.1 MB 1.6 MB/s eta 0:00:13\n",
      "   ------------------------ --------------- 30.1/50.1 MB 1.6 MB/s eta 0:00:13\n",
      "   ------------------------ --------------- 30.9/50.1 MB 1.6 MB/s eta 0:00:12\n",
      "   ------------------------- -------------- 32.0/50.1 MB 1.6 MB/s eta 0:00:12\n",
      "   ------------------------- -------------- 32.2/50.1 MB 1.6 MB/s eta 0:00:11\n",
      "   -------------------------- ------------- 33.0/50.1 MB 1.7 MB/s eta 0:00:11\n",
      "   --------------------------- ------------ 33.8/50.1 MB 1.7 MB/s eta 0:00:10\n",
      "   --------------------------- ------------ 34.3/50.1 MB 1.7 MB/s eta 0:00:10\n",
      "   ---------------------------- ----------- 35.1/50.1 MB 1.7 MB/s eta 0:00:09\n",
      "   ---------------------------- ----------- 35.9/50.1 MB 1.7 MB/s eta 0:00:09\n",
      "   ---------------------------- ----------- 35.9/50.1 MB 1.7 MB/s eta 0:00:09\n",
      "   ---------------------------- ----------- 36.2/50.1 MB 1.7 MB/s eta 0:00:09\n",
      "   ----------------------------- ---------- 36.4/50.1 MB 1.7 MB/s eta 0:00:09\n",
      "   ----------------------------- ---------- 36.4/50.1 MB 1.7 MB/s eta 0:00:09\n",
      "   ----------------------------- ---------- 36.7/50.1 MB 1.7 MB/s eta 0:00:08\n",
      "   ----------------------------- ---------- 37.0/50.1 MB 1.7 MB/s eta 0:00:08\n",
      "   ----------------------------- ---------- 37.2/50.1 MB 1.7 MB/s eta 0:00:08\n",
      "   ----------------------------- ---------- 37.5/50.1 MB 1.7 MB/s eta 0:00:08\n",
      "   ------------------------------ --------- 37.7/50.1 MB 1.7 MB/s eta 0:00:08\n",
      "   ------------------------------ --------- 38.0/50.1 MB 1.7 MB/s eta 0:00:08\n",
      "   ------------------------------ --------- 38.3/50.1 MB 1.7 MB/s eta 0:00:08\n",
      "   ------------------------------ --------- 38.5/50.1 MB 1.7 MB/s eta 0:00:07\n",
      "   ------------------------------- -------- 39.1/50.1 MB 1.7 MB/s eta 0:00:07\n",
      "   ------------------------------- -------- 39.6/50.1 MB 1.7 MB/s eta 0:00:07\n",
      "   ------------------------------- -------- 39.8/50.1 MB 1.7 MB/s eta 0:00:07\n",
      "   -------------------------------- ------- 40.6/50.1 MB 1.7 MB/s eta 0:00:06\n",
      "   --------------------------------- ------ 41.7/50.1 MB 1.7 MB/s eta 0:00:05\n",
      "   --------------------------------- ------ 42.5/50.1 MB 1.7 MB/s eta 0:00:05\n",
      "   ---------------------------------- ----- 43.3/50.1 MB 1.7 MB/s eta 0:00:04\n",
      "   ----------------------------------- ---- 44.0/50.1 MB 1.8 MB/s eta 0:00:04\n",
      "   ----------------------------------- ---- 44.8/50.1 MB 1.8 MB/s eta 0:00:03\n",
      "   ------------------------------------ --- 45.4/50.1 MB 1.8 MB/s eta 0:00:03\n",
      "   ------------------------------------ --- 46.1/50.1 MB 1.8 MB/s eta 0:00:03\n",
      "   ------------------------------------- -- 46.4/50.1 MB 1.8 MB/s eta 0:00:03\n",
      "   ------------------------------------- -- 46.7/50.1 MB 1.8 MB/s eta 0:00:02\n",
      "   ------------------------------------- -- 46.7/50.1 MB 1.8 MB/s eta 0:00:02\n",
      "   ------------------------------------- -- 46.9/50.1 MB 1.8 MB/s eta 0:00:02\n",
      "   ------------------------------------- -- 46.9/50.1 MB 1.8 MB/s eta 0:00:02\n",
      "   ------------------------------------- -- 47.2/50.1 MB 1.8 MB/s eta 0:00:02\n",
      "   ------------------------------------- -- 47.4/50.1 MB 1.7 MB/s eta 0:00:02\n",
      "   -------------------------------------- - 47.7/50.1 MB 1.7 MB/s eta 0:00:02\n",
      "   -------------------------------------- - 47.7/50.1 MB 1.7 MB/s eta 0:00:02\n",
      "   -------------------------------------- - 48.0/50.1 MB 1.7 MB/s eta 0:00:02\n",
      "   -------------------------------------- - 48.0/50.1 MB 1.7 MB/s eta 0:00:02\n",
      "   -------------------------------------- - 48.2/50.1 MB 1.7 MB/s eta 0:00:02\n",
      "   -------------------------------------- - 48.5/50.1 MB 1.7 MB/s eta 0:00:01\n",
      "   -------------------------------------- - 48.5/50.1 MB 1.7 MB/s eta 0:00:01\n",
      "   -------------------------------------- - 48.8/50.1 MB 1.7 MB/s eta 0:00:01\n",
      "   ---------------------------------------  49.0/50.1 MB 1.7 MB/s eta 0:00:01\n",
      "   ---------------------------------------  49.0/50.1 MB 1.7 MB/s eta 0:00:01\n",
      "   ---------------------------------------  49.3/50.1 MB 1.7 MB/s eta 0:00:01\n",
      "   ---------------------------------------  49.5/50.1 MB 1.7 MB/s eta 0:00:01\n",
      "   ---------------------------------------  49.8/50.1 MB 1.7 MB/s eta 0:00:01\n",
      "   ---------------------------------------  50.1/50.1 MB 1.7 MB/s eta 0:00:01\n",
      "   ---------------------------------------- 50.1/50.1 MB 1.6 MB/s eta 0:00:00\n",
      "Downloading PyQt5_sip-12.15.0-cp38-cp38-win_amd64.whl (59 kB)\n",
      "Installing collected packages: PyQt5-Qt5, PyQt5-sip, lxml, pyqt5\n",
      "Successfully installed PyQt5-Qt5-5.15.2 PyQt5-sip-12.15.0 lxml-6.0.0 pyqt5-5.15.11\n"
     ]
    }
   ],
   "source": [
    "!pip install --upgrade pyqt5 lxml"
   ]
  },
  {
   "cell_type": "code",
   "execution_count": 18,
   "id": "6ef0b6f2-8fe9-4dc9-addb-46bf1d64ca52",
   "metadata": {},
   "outputs": [],
   "source": [
    "LABELIMG_PATH = os.path.join('Tensorflow', 'labelimg')\n"
   ]
  },
  {
   "cell_type": "code",
   "execution_count": 14,
   "id": "c1581c06-d750-439e-860d-73912584878b",
   "metadata": {
    "scrolled": true
   },
   "outputs": [
    {
     "name": "stdout",
     "output_type": "stream",
     "text": [
      "Package                      Version\n",
      "---------------------------- -----------\n",
      "absl-py                      2.3.1\n",
      "asttokens                    3.0.0\n",
      "astunparse                   1.6.3\n",
      "backcall                     0.2.0\n",
      "cachetools                   5.5.2\n",
      "certifi                      2025.7.9\n",
      "charset-normalizer           3.4.2\n",
      "colorama                     0.4.6\n",
      "comm                         0.2.2\n",
      "Cython                       3.1.2\n",
      "debugpy                      1.8.14\n",
      "decorator                    5.2.1\n",
      "executing                    2.2.0\n",
      "flatbuffers                  25.2.10\n",
      "gast                         0.4.0\n",
      "google-auth                  2.40.3\n",
      "google-auth-oauthlib         0.4.6\n",
      "google-pasta                 0.2.0\n",
      "grpcio                       1.70.0\n",
      "h5py                         3.11.0\n",
      "idna                         3.10\n",
      "importlib_metadata           8.5.0\n",
      "ipykernel                    6.29.5\n",
      "ipython                      8.12.3\n",
      "jedi                         0.19.2\n",
      "jupyter_client               8.6.3\n",
      "jupyter_core                 5.8.1\n",
      "keras                        2.10.0\n",
      "Keras-Preprocessing          1.1.2\n",
      "libclang                     18.1.1\n",
      "lxml                         6.0.0\n",
      "Markdown                     3.7\n",
      "MarkupSafe                   2.1.5\n",
      "matplotlib-inline            0.1.7\n",
      "nest-asyncio                 1.6.0\n",
      "numpy                        1.24.4\n",
      "oauthlib                     3.3.1\n",
      "opencv-python                4.12.0.88\n",
      "opt_einsum                   3.4.0\n",
      "packaging                    25.0\n",
      "pandas                       1.3.5\n",
      "parso                        0.8.4\n",
      "pickleshare                  0.7.5\n",
      "pillow                       10.4.0\n",
      "pip                          25.0.1\n",
      "platformdirs                 4.3.6\n",
      "prompt_toolkit               3.0.51\n",
      "protobuf                     3.19.6\n",
      "psutil                       7.0.0\n",
      "pure_eval                    0.2.3\n",
      "pyasn1                       0.6.1\n",
      "pyasn1_modules               0.4.2\n",
      "Pygments                     2.19.2\n",
      "PyQt5                        5.15.11\n",
      "PyQt5-Qt5                    5.15.2\n",
      "PyQt5_sip                    12.15.0\n",
      "python-dateutil              2.9.0.post0\n",
      "pytz                         2025.2\n",
      "pywin32                      310\n",
      "pyzmq                        27.0.0\n",
      "requests                     2.32.4\n",
      "requests-oauthlib            2.0.0\n",
      "rsa                          4.9.1\n",
      "setuptools                   41.2.0\n",
      "six                          1.17.0\n",
      "stack-data                   0.6.3\n",
      "tensorboard                  2.10.1\n",
      "tensorboard-data-server      0.6.1\n",
      "tensorboard-plugin-wit       1.8.1\n",
      "tensorflow                   2.10.0\n",
      "tensorflow-estimator         2.10.0\n",
      "tensorflow-io-gcs-filesystem 0.31.0\n",
      "termcolor                    2.4.0\n",
      "tornado                      6.4.2\n",
      "traitlets                    5.14.3\n",
      "typing_extensions            4.13.2\n",
      "urllib3                      2.2.3\n",
      "wcwidth                      0.2.13\n",
      "Werkzeug                     3.0.6\n",
      "wheel                        0.45.1\n",
      "wrapt                        1.17.2\n",
      "zipp                         3.20.2\n"
     ]
    }
   ],
   "source": [
    "!pip list"
   ]
  },
  {
   "cell_type": "code",
   "execution_count": 19,
   "id": "f050951f-782d-4edf-8bfc-8e0faf4201d5",
   "metadata": {},
   "outputs": [
    {
     "name": "stderr",
     "output_type": "stream",
     "text": [
      "Cloning into 'Tensorflow\\labelimg'...\n"
     ]
    }
   ],
   "source": [
    "if not os.path.exists(LABELIMG_PATH):\n",
    "    !mkdir {LABELIMG_PATH}\n",
    "    !git clone https://github.com/tzutalin/labelImg {LABELIMG_PATH}"
   ]
  },
  {
   "cell_type": "code",
   "execution_count": 20,
   "id": "4da88908-d6b3-4047-b4d3-d446e68a51d0",
   "metadata": {},
   "outputs": [],
   "source": [
    "if os.name == 'posix':\n",
    "    !make qt5py3\n",
    "if os.name =='nt':\n",
    "    !cd {LABELIMG_PATH} && pyrcc5 -o libs/resources.py resources.qrc"
   ]
  },
  {
   "cell_type": "code",
   "execution_count": 21,
   "id": "9a403903-bff4-427d-9f46-5682a240951c",
   "metadata": {
    "scrolled": true
   },
   "outputs": [
    {
     "name": "stdout",
     "output_type": "stream",
     "text": [
      "Image:C:\\Users\\aaliy\\OneDrive\\Desktop\\Livestream\\RealTimeObjectDetection\\Tensorflow\\workspace\\images\\collectedimages\\hello\\hello.6af3e2e5-5f31-11f0-9f95-94bb43b4a5c7.jpg -> Annotation:C:/Users/aaliy/OneDrive/Desktop/Livestream/RealTimeObjectDetection/Tensorflow/workspace/images/collectedimages/hello\\hello.6af3e2e5-5f31-11f0-9f95-94bb43b4a5c7.xml\n",
      "Image:C:\\Users\\aaliy\\OneDrive\\Desktop\\Livestream\\RealTimeObjectDetection\\Tensorflow\\workspace\\images\\collectedimages\\hello\\hello.6c27a5ea-5f31-11f0-8c19-94bb43b4a5c7.jpg -> Annotation:C:/Users/aaliy/OneDrive/Desktop/Livestream/RealTimeObjectDetection/Tensorflow/workspace/images/collectedimages/hello\\hello.6c27a5ea-5f31-11f0-8c19-94bb43b4a5c7.xml\n",
      "Image:C:\\Users\\aaliy\\OneDrive\\Desktop\\Livestream\\RealTimeObjectDetection\\Tensorflow\\workspace\\images\\collectedimages\\hello\\hello.9bf5dfa8-5fb9-11f0-b6b2-94bb43b4a5c7.jpg -> Annotation:C:/Users/aaliy/OneDrive/Desktop/Livestream/RealTimeObjectDetection/Tensorflow/workspace/images/collectedimages/hello\\hello.9bf5dfa8-5fb9-11f0-b6b2-94bb43b4a5c7.xml\n",
      "Image:C:\\Users\\aaliy\\OneDrive\\Desktop\\Livestream\\RealTimeObjectDetection\\Tensorflow\\workspace\\images\\collectedimages\\hello\\hello.9d29d645-5fb9-11f0-8c0f-94bb43b4a5c7.jpg -> Annotation:C:/Users/aaliy/OneDrive/Desktop/Livestream/RealTimeObjectDetection/Tensorflow/workspace/images/collectedimages/hello\\hello.9d29d645-5fb9-11f0-8c0f-94bb43b4a5c7.xml\n",
      "Image:C:\\Users\\aaliy\\OneDrive\\Desktop\\Livestream\\RealTimeObjectDetection\\Tensorflow\\workspace\\images\\collectedimages\\hello\\hello.9e5d50a2-5fb9-11f0-a3e6-94bb43b4a5c7.jpg -> Annotation:C:/Users/aaliy/OneDrive/Desktop/Livestream/RealTimeObjectDetection/Tensorflow/workspace/images/collectedimages/hello\\hello.9e5d50a2-5fb9-11f0-a3e6-94bb43b4a5c7.xml\n",
      "Image:C:\\Users\\aaliy\\OneDrive\\Desktop\\Livestream\\RealTimeObjectDetection\\Tensorflow\\workspace\\images\\collectedimages\\hello\\hello.9f9144ce-5fb9-11f0-ad2d-94bb43b4a5c7.jpg -> Annotation:C:/Users/aaliy/OneDrive/Desktop/Livestream/RealTimeObjectDetection/Tensorflow/workspace/images/collectedimages/hello\\hello.9f9144ce-5fb9-11f0-ad2d-94bb43b4a5c7.xml\n",
      "Image:C:\\Users\\aaliy\\OneDrive\\Desktop\\Livestream\\RealTimeObjectDetection\\Tensorflow\\workspace\\images\\collectedimages\\hello\\hello.74bbbfc7-5f31-11f0-a0e2-94bb43b4a5c7.jpg -> Annotation:C:/Users/aaliy/OneDrive/Desktop/Livestream/RealTimeObjectDetection/Tensorflow/workspace/images/collectedimages/hello\\hello.74bbbfc7-5f31-11f0-a0e2-94bb43b4a5c7.xml\n",
      "Image:C:\\Users\\aaliy\\OneDrive\\Desktop\\Livestream\\RealTimeObjectDetection\\Tensorflow\\workspace\\images\\collectedimages\\hello\\hello.711f7260-5f31-11f0-8bfa-94bb43b4a5c7.jpg -> Annotation:C:/Users/aaliy/OneDrive/Desktop/Livestream/RealTimeObjectDetection/Tensorflow/workspace/images/collectedimages/hello\\hello.711f7260-5f31-11f0-8bfa-94bb43b4a5c7.xml\n",
      "Image:C:\\Users\\aaliy\\OneDrive\\Desktop\\Livestream\\RealTimeObjectDetection\\Tensorflow\\workspace\\images\\collectedimages\\hello\\hello.a0c47efb-5fb9-11f0-9084-94bb43b4a5c7.jpg -> Annotation:C:/Users/aaliy/OneDrive/Desktop/Livestream/RealTimeObjectDetection/Tensorflow/workspace/images/collectedimages/hello\\hello.a0c47efb-5fb9-11f0-9084-94bb43b4a5c7.xml\n",
      "Image:C:\\Users\\aaliy\\OneDrive\\Desktop\\Livestream\\RealTimeObjectDetection\\Tensorflow\\workspace\\images\\collectedimages\\hello\\hello.a1f8235c-5fb9-11f0-ae17-94bb43b4a5c7.jpg -> Annotation:C:/Users/aaliy/OneDrive/Desktop/Livestream/RealTimeObjectDetection/Tensorflow/workspace/images/collectedimages/hello\\hello.a1f8235c-5fb9-11f0-ae17-94bb43b4a5c7.xml\n",
      "Image:C:\\Users\\aaliy\\OneDrive\\Desktop\\Livestream\\RealTimeObjectDetection\\Tensorflow\\workspace\\images\\collectedimages\\iloveyou\\iloveyou.b9d2a5c3-5fb9-11f0-a42e-94bb43b4a5c7.jpg -> Annotation:C:/Users/aaliy/OneDrive/Desktop/Livestream/RealTimeObjectDetection/Tensorflow/workspace/images/collectedimages/iloveyou\\iloveyou.b9d2a5c3-5fb9-11f0-a42e-94bb43b4a5c7.xml\n",
      "Image:C:\\Users\\aaliy\\OneDrive\\Desktop\\Livestream\\RealTimeObjectDetection\\Tensorflow\\workspace\\images\\collectedimages\\iloveyou\\iloveyou.bd6ddd05-5fb9-11f0-ab11-94bb43b4a5c7.jpg -> Annotation:C:/Users/aaliy/OneDrive/Desktop/Livestream/RealTimeObjectDetection/Tensorflow/workspace/images/collectedimages/iloveyou\\iloveyou.bd6ddd05-5fb9-11f0-ab11-94bb43b4a5c7.xml\n",
      "Image:C:\\Users\\aaliy\\OneDrive\\Desktop\\Livestream\\RealTimeObjectDetection\\Tensorflow\\workspace\\images\\collectedimages\\iloveyou\\iloveyou.bea0f347-5fb9-11f0-aa02-94bb43b4a5c7.jpg -> Annotation:C:/Users/aaliy/OneDrive/Desktop/Livestream/RealTimeObjectDetection/Tensorflow/workspace/images/collectedimages/iloveyou\\iloveyou.bea0f347-5fb9-11f0-aa02-94bb43b4a5c7.xml\n",
      "Image:C:\\Users\\aaliy\\OneDrive\\Desktop\\Livestream\\RealTimeObjectDetection\\Tensorflow\\workspace\\images\\collectedimages\\iloveyou\\iloveyou.bfd5381d-5fb9-11f0-b779-94bb43b4a5c7.jpg -> Annotation:C:/Users/aaliy/OneDrive/Desktop/Livestream/RealTimeObjectDetection/Tensorflow/workspace/images/collectedimages/iloveyou\\iloveyou.bfd5381d-5fb9-11f0-b779-94bb43b4a5c7.xml\n",
      "Image:C:\\Users\\aaliy\\OneDrive\\Desktop\\Livestream\\RealTimeObjectDetection\\Tensorflow\\workspace\\images\\collectedimages\\iloveyou\\iloveyou.f10f4509-5f30-11f0-ba21-94bb43b4a5c7.jpg -> Annotation:C:/Users/aaliy/OneDrive/Desktop/Livestream/RealTimeObjectDetection/Tensorflow/workspace/images/collectedimages/iloveyou\\iloveyou.f10f4509-5f30-11f0-ba21-94bb43b4a5c7.xml\n",
      "Image:C:\\Users\\aaliy\\OneDrive\\Desktop\\Livestream\\RealTimeObjectDetection\\Tensorflow\\workspace\\images\\collectedimages\\iloveyou\\iloveyou.f24236ac-5f30-11f0-80ca-94bb43b4a5c7.jpg -> Annotation:C:/Users/aaliy/OneDrive/Desktop/Livestream/RealTimeObjectDetection/Tensorflow/workspace/images/collectedimages/iloveyou\\iloveyou.f24236ac-5f30-11f0-80ca-94bb43b4a5c7.xml\n",
      "Image:C:\\Users\\aaliy\\OneDrive\\Desktop\\Livestream\\RealTimeObjectDetection\\Tensorflow\\workspace\\images\\collectedimages\\iloveyou\\iloveyou.b89f09dc-5fb9-11f0-800c-94bb43b4a5c7.jpg -> Annotation:C:/Users/aaliy/OneDrive/Desktop/Livestream/RealTimeObjectDetection/Tensorflow/workspace/images/collectedimages/iloveyou\\iloveyou.b89f09dc-5fb9-11f0-800c-94bb43b4a5c7.xml\n",
      "Image:C:\\Users\\aaliy\\OneDrive\\Desktop\\Livestream\\RealTimeObjectDetection\\Tensorflow\\workspace\\images\\collectedimages\\iloveyou\\iloveyou.bb0670a6-5fb9-11f0-9433-94bb43b4a5c7.jpg -> Annotation:C:/Users/aaliy/OneDrive/Desktop/Livestream/RealTimeObjectDetection/Tensorflow/workspace/images/collectedimages/iloveyou\\iloveyou.bb0670a6-5fb9-11f0-9433-94bb43b4a5c7.xml\n",
      "Image:C:\\Users\\aaliy\\OneDrive\\Desktop\\Livestream\\RealTimeObjectDetection\\Tensorflow\\workspace\\images\\collectedimages\\iloveyou\\iloveyou.bc3a2194-5fb9-11f0-9e7e-94bb43b4a5c7.jpg -> Annotation:C:/Users/aaliy/OneDrive/Desktop/Livestream/RealTimeObjectDetection/Tensorflow/workspace/images/collectedimages/iloveyou\\iloveyou.bc3a2194-5fb9-11f0-9e7e-94bb43b4a5c7.xml\n",
      "Image:C:\\Users\\aaliy\\OneDrive\\Desktop\\Livestream\\RealTimeObjectDetection\\Tensorflow\\workspace\\images\\collectedimages\\iloveyou\\iloveyou.c108ecfe-5fb9-11f0-b773-94bb43b4a5c7.jpg -> Annotation:C:/Users/aaliy/OneDrive/Desktop/Livestream/RealTimeObjectDetection/Tensorflow/workspace/images/collectedimages/iloveyou\\iloveyou.c108ecfe-5fb9-11f0-b773-94bb43b4a5c7.xml\n",
      "Image:C:\\Users\\aaliy\\OneDrive\\Desktop\\Livestream\\RealTimeObjectDetection\\Tensorflow\\workspace\\images\\collectedimages\\no\\no.d7b9e7fb-5fb9-11f0-a002-94bb43b4a5c7.jpg -> Annotation:C:/Users/aaliy/OneDrive/Desktop/Livestream/RealTimeObjectDetection/Tensorflow/workspace/images/collectedimages/no\\no.d7b9e7fb-5fb9-11f0-a002-94bb43b4a5c7.xml\n",
      "Image:C:\\Users\\aaliy\\OneDrive\\Desktop\\Livestream\\RealTimeObjectDetection\\Tensorflow\\workspace\\images\\collectedimages\\no\\no.d8edb67a-5fb9-11f0-aa65-94bb43b4a5c7.jpg -> Annotation:C:/Users/aaliy/OneDrive/Desktop/Livestream/RealTimeObjectDetection/Tensorflow/workspace/images/collectedimages/no\\no.d8edb67a-5fb9-11f0-aa65-94bb43b4a5c7.xml\n",
      "Image:C:\\Users\\aaliy\\OneDrive\\Desktop\\Livestream\\RealTimeObjectDetection\\Tensorflow\\workspace\\images\\collectedimages\\no\\no.d685fef4-5fb9-11f0-bd3f-94bb43b4a5c7.jpg -> Annotation:C:/Users/aaliy/OneDrive/Desktop/Livestream/RealTimeObjectDetection/Tensorflow/workspace/images/collectedimages/no\\no.d685fef4-5fb9-11f0-bd3f-94bb43b4a5c7.xml\n",
      "Image:C:\\Users\\aaliy\\OneDrive\\Desktop\\Livestream\\RealTimeObjectDetection\\Tensorflow\\workspace\\images\\collectedimages\\no\\no.d5526c0d-5fb9-11f0-b188-94bb43b4a5c7.jpg -> Annotation:C:/Users/aaliy/OneDrive/Desktop/Livestream/RealTimeObjectDetection/Tensorflow/workspace/images/collectedimages/no\\no.d5526c0d-5fb9-11f0-b188-94bb43b4a5c7.xml\n",
      "Image:C:\\Users\\aaliy\\OneDrive\\Desktop\\Livestream\\RealTimeObjectDetection\\Tensorflow\\workspace\\images\\collectedimages\\no\\no.da20fd91-5fb9-11f0-a214-94bb43b4a5c7.jpg -> Annotation:C:/Users/aaliy/OneDrive/Desktop/Livestream/RealTimeObjectDetection/Tensorflow/workspace/images/collectedimages/no\\no.da20fd91-5fb9-11f0-a214-94bb43b4a5c7.xml\n",
      "Image:C:\\Users\\aaliy\\OneDrive\\Desktop\\Livestream\\RealTimeObjectDetection\\Tensorflow\\workspace\\images\\collectedimages\\no\\no.db55bacf-5fb9-11f0-9486-94bb43b4a5c7.jpg -> Annotation:C:/Users/aaliy/OneDrive/Desktop/Livestream/RealTimeObjectDetection/Tensorflow/workspace/images/collectedimages/no\\no.db55bacf-5fb9-11f0-9486-94bb43b4a5c7.xml\n",
      "Image:C:\\Users\\aaliy\\OneDrive\\Desktop\\Livestream\\RealTimeObjectDetection\\Tensorflow\\workspace\\images\\collectedimages\\no\\no.dc87df0c-5fb9-11f0-8dc1-94bb43b4a5c7.jpg -> Annotation:C:/Users/aaliy/OneDrive/Desktop/Livestream/RealTimeObjectDetection/Tensorflow/workspace/images/collectedimages/no\\no.dc87df0c-5fb9-11f0-8dc1-94bb43b4a5c7.xml\n",
      "Image:C:\\Users\\aaliy\\OneDrive\\Desktop\\Livestream\\RealTimeObjectDetection\\Tensorflow\\workspace\\images\\collectedimages\\no\\no.ddbb6713-5fb9-11f0-80b5-94bb43b4a5c7.jpg -> Annotation:C:/Users/aaliy/OneDrive/Desktop/Livestream/RealTimeObjectDetection/Tensorflow/workspace/images/collectedimages/no\\no.ddbb6713-5fb9-11f0-80b5-94bb43b4a5c7.xml\n",
      "Image:C:\\Users\\aaliy\\OneDrive\\Desktop\\Livestream\\RealTimeObjectDetection\\Tensorflow\\workspace\\images\\collectedimages\\no\\no.deef0a9a-5fb9-11f0-bc79-94bb43b4a5c7.jpg -> Annotation:C:/Users/aaliy/OneDrive/Desktop/Livestream/RealTimeObjectDetection/Tensorflow/workspace/images/collectedimages/no\\no.deef0a9a-5fb9-11f0-bc79-94bb43b4a5c7.xml\n",
      "Image:C:\\Users\\aaliy\\OneDrive\\Desktop\\Livestream\\RealTimeObjectDetection\\Tensorflow\\workspace\\images\\collectedimages\\no\\no.e02288ee-5fb9-11f0-908e-94bb43b4a5c7.jpg -> Annotation:C:/Users/aaliy/OneDrive/Desktop/Livestream/RealTimeObjectDetection/Tensorflow/workspace/images/collectedimages/no\\no.e02288ee-5fb9-11f0-908e-94bb43b4a5c7.xml\n",
      "Image:C:\\Users\\aaliy\\OneDrive\\Desktop\\Livestream\\RealTimeObjectDetection\\Tensorflow\\workspace\\images\\collectedimages\\thanks\\thanks.a6af83e0-5fb9-11f0-ad63-94bb43b4a5c7.jpg -> Annotation:C:/Users/aaliy/OneDrive/Desktop/Livestream/RealTimeObjectDetection/Tensorflow/workspace/images/collectedimages/thanks\\thanks.a6af83e0-5fb9-11f0-ad63-94bb43b4a5c7.xml\n",
      "Image:C:\\Users\\aaliy\\OneDrive\\Desktop\\Livestream\\RealTimeObjectDetection\\Tensorflow\\workspace\\images\\collectedimages\\thanks\\thanks.a916b404-5fb9-11f0-b1b9-94bb43b4a5c7.jpg -> Annotation:C:/Users/aaliy/OneDrive/Desktop/Livestream/RealTimeObjectDetection/Tensorflow/workspace/images/collectedimages/thanks\\thanks.a916b404-5fb9-11f0-b1b9-94bb43b4a5c7.xml\n",
      "Image:C:\\Users\\aaliy\\OneDrive\\Desktop\\Livestream\\RealTimeObjectDetection\\Tensorflow\\workspace\\images\\collectedimages\\thanks\\thanks.aa4b2aec-5fb9-11f0-ba36-94bb43b4a5c7.jpg -> Annotation:C:/Users/aaliy/OneDrive/Desktop/Livestream/RealTimeObjectDetection/Tensorflow/workspace/images/collectedimages/thanks\\thanks.aa4b2aec-5fb9-11f0-ba36-94bb43b4a5c7.xml\n",
      "Image:C:\\Users\\aaliy\\OneDrive\\Desktop\\Livestream\\RealTimeObjectDetection\\Tensorflow\\workspace\\images\\collectedimages\\thanks\\thanks.ab7e20b1-5fb9-11f0-b177-94bb43b4a5c7.jpg -> Annotation:C:/Users/aaliy/OneDrive/Desktop/Livestream/RealTimeObjectDetection/Tensorflow/workspace/images/collectedimages/thanks\\thanks.ab7e20b1-5fb9-11f0-b177-94bb43b4a5c7.xml\n",
      "Image:C:\\Users\\aaliy\\OneDrive\\Desktop\\Livestream\\RealTimeObjectDetection\\Tensorflow\\workspace\\images\\collectedimages\\thanks\\thanks.acb2181b-5fb9-11f0-a2ac-94bb43b4a5c7.jpg -> Annotation:C:/Users/aaliy/OneDrive/Desktop/Livestream/RealTimeObjectDetection/Tensorflow/workspace/images/collectedimages/thanks\\thanks.acb2181b-5fb9-11f0-a2ac-94bb43b4a5c7.xml\n",
      "Image:C:\\Users\\aaliy\\OneDrive\\Desktop\\Livestream\\RealTimeObjectDetection\\Tensorflow\\workspace\\images\\collectedimages\\thanks\\thanks.ade5df0b-5fb9-11f0-b943-94bb43b4a5c7.jpg -> Annotation:C:/Users/aaliy/OneDrive/Desktop/Livestream/RealTimeObjectDetection/Tensorflow/workspace/images/collectedimages/thanks\\thanks.ade5df0b-5fb9-11f0-b943-94bb43b4a5c7.xml\n",
      "Image:C:\\Users\\aaliy\\OneDrive\\Desktop\\Livestream\\RealTimeObjectDetection\\Tensorflow\\workspace\\images\\collectedimages\\thanks\\thanks.af195693-5fb9-11f0-b263-94bb43b4a5c7.jpg -> Annotation:C:/Users/aaliy/OneDrive/Desktop/Livestream/RealTimeObjectDetection/Tensorflow/workspace/images/collectedimages/thanks\\thanks.af195693-5fb9-11f0-b263-94bb43b4a5c7.xml\n",
      "Image:C:\\Users\\aaliy\\OneDrive\\Desktop\\Livestream\\RealTimeObjectDetection\\Tensorflow\\workspace\\images\\collectedimages\\thanks\\thanks.b04d036b-5fb9-11f0-bc79-94bb43b4a5c7.jpg -> Annotation:C:/Users/aaliy/OneDrive/Desktop/Livestream/RealTimeObjectDetection/Tensorflow/workspace/images/collectedimages/thanks\\thanks.b04d036b-5fb9-11f0-bc79-94bb43b4a5c7.xml\n",
      "Image:C:\\Users\\aaliy\\OneDrive\\Desktop\\Livestream\\RealTimeObjectDetection\\Tensorflow\\workspace\\images\\collectedimages\\thanks\\thanks.b180777a-5fb9-11f0-b885-94bb43b4a5c7.jpg -> Annotation:C:/Users/aaliy/OneDrive/Desktop/Livestream/RealTimeObjectDetection/Tensorflow/workspace/images/collectedimages/thanks\\thanks.b180777a-5fb9-11f0-b885-94bb43b4a5c7.xml\n",
      "Image:C:\\Users\\aaliy\\OneDrive\\Desktop\\Livestream\\RealTimeObjectDetection\\Tensorflow\\workspace\\images\\collectedimages\\yes\\yes.c5c41359-5fb9-11f0-b6f8-94bb43b4a5c7.jpg -> Annotation:C:/Users/aaliy/OneDrive/Desktop/Livestream/RealTimeObjectDetection/Tensorflow/workspace/images/collectedimages/yes\\yes.c5c41359-5fb9-11f0-b6f8-94bb43b4a5c7.xml\n",
      "Image:C:\\Users\\aaliy\\OneDrive\\Desktop\\Livestream\\RealTimeObjectDetection\\Tensorflow\\workspace\\images\\collectedimages\\yes\\yes.c5c41359-5fb9-11f0-b6f8-94bb43b4a5c7.jpg -> Annotation:C:/Users/aaliy/OneDrive/Desktop/Livestream/RealTimeObjectDetection/Tensorflow/workspace/images/collectedimages/yes\\yes.c5c41359-5fb9-11f0-b6f8-94bb43b4a5c7.xml\n",
      "Image:C:\\Users\\aaliy\\OneDrive\\Desktop\\Livestream\\RealTimeObjectDetection\\Tensorflow\\workspace\\images\\collectedimages\\yes\\yes.c6f87004-5fb9-11f0-9f3e-94bb43b4a5c7.jpg -> Annotation:C:/Users/aaliy/OneDrive/Desktop/Livestream/RealTimeObjectDetection/Tensorflow/workspace/images/collectedimages/yes\\yes.c6f87004-5fb9-11f0-9f3e-94bb43b4a5c7.xml\n",
      "Image:C:\\Users\\aaliy\\OneDrive\\Desktop\\Livestream\\RealTimeObjectDetection\\Tensorflow\\workspace\\images\\collectedimages\\yes\\yes.c82c19b3-5fb9-11f0-b4d6-94bb43b4a5c7.jpg -> Annotation:C:/Users/aaliy/OneDrive/Desktop/Livestream/RealTimeObjectDetection/Tensorflow/workspace/images/collectedimages/yes\\yes.c82c19b3-5fb9-11f0-b4d6-94bb43b4a5c7.xml\n",
      "Image:C:\\Users\\aaliy\\OneDrive\\Desktop\\Livestream\\RealTimeObjectDetection\\Tensorflow\\workspace\\images\\collectedimages\\yes\\yes.c9600552-5fb9-11f0-b6fe-94bb43b4a5c7.jpg -> Annotation:C:/Users/aaliy/OneDrive/Desktop/Livestream/RealTimeObjectDetection/Tensorflow/workspace/images/collectedimages/yes\\yes.c9600552-5fb9-11f0-b6fe-94bb43b4a5c7.xml\n",
      "Image:C:\\Users\\aaliy\\OneDrive\\Desktop\\Livestream\\RealTimeObjectDetection\\Tensorflow\\workspace\\images\\collectedimages\\yes\\yes.ca93599d-5fb9-11f0-b80f-94bb43b4a5c7.jpg -> Annotation:C:/Users/aaliy/OneDrive/Desktop/Livestream/RealTimeObjectDetection/Tensorflow/workspace/images/collectedimages/yes\\yes.ca93599d-5fb9-11f0-b80f-94bb43b4a5c7.xml\n",
      "Image:C:\\Users\\aaliy\\OneDrive\\Desktop\\Livestream\\RealTimeObjectDetection\\Tensorflow\\workspace\\images\\collectedimages\\yes\\yes.cbc68496-5fb9-11f0-b3cd-94bb43b4a5c7.jpg -> Annotation:C:/Users/aaliy/OneDrive/Desktop/Livestream/RealTimeObjectDetection/Tensorflow/workspace/images/collectedimages/yes\\yes.cbc68496-5fb9-11f0-b3cd-94bb43b4a5c7.xml\n",
      "Image:C:\\Users\\aaliy\\OneDrive\\Desktop\\Livestream\\RealTimeObjectDetection\\Tensorflow\\workspace\\images\\collectedimages\\yes\\yes.ccfa77a2-5fb9-11f0-9042-94bb43b4a5c7.jpg -> Annotation:C:/Users/aaliy/OneDrive/Desktop/Livestream/RealTimeObjectDetection/Tensorflow/workspace/images/collectedimages/yes\\yes.ccfa77a2-5fb9-11f0-9042-94bb43b4a5c7.xml\n",
      "Image:C:\\Users\\aaliy\\OneDrive\\Desktop\\Livestream\\RealTimeObjectDetection\\Tensorflow\\workspace\\images\\collectedimages\\yes\\yes.ce2df239-5fb9-11f0-bdd1-94bb43b4a5c7.jpg -> Annotation:C:/Users/aaliy/OneDrive/Desktop/Livestream/RealTimeObjectDetection/Tensorflow/workspace/images/collectedimages/yes\\yes.ce2df239-5fb9-11f0-bdd1-94bb43b4a5c7.xml\n",
      "Image:C:\\Users\\aaliy\\OneDrive\\Desktop\\Livestream\\RealTimeObjectDetection\\Tensorflow\\workspace\\images\\collectedimages\\yes\\yes.cf61b1b9-5fb9-11f0-8182-94bb43b4a5c7.jpg -> Annotation:C:/Users/aaliy/OneDrive/Desktop/Livestream/RealTimeObjectDetection/Tensorflow/workspace/images/collectedimages/yes\\yes.cf61b1b9-5fb9-11f0-8182-94bb43b4a5c7.xml\n",
      "Image:C:\\Users\\aaliy\\OneDrive\\Desktop\\Livestream\\RealTimeObjectDetection\\Tensorflow\\workspace\\images\\collectedimages\\yes\\yes.d09566b5-5fb9-11f0-a567-94bb43b4a5c7.jpg -> Annotation:C:/Users/aaliy/OneDrive/Desktop/Livestream/RealTimeObjectDetection/Tensorflow/workspace/images/collectedimages/yes\\yes.d09566b5-5fb9-11f0-a567-94bb43b4a5c7.xml\n"
     ]
    }
   ],
   "source": [
    "!cd {LABELIMG_PATH} && python labelImg.py"
   ]
  },
  {
   "cell_type": "code",
   "execution_count": 1,
   "id": "091b3926-dba9-4649-96e3-001041d88175",
   "metadata": {
    "scrolled": true
   },
   "outputs": [
    {
     "name": "stdout",
     "output_type": "stream",
     "text": [
      "Package                       Version     Editable project location\n",
      "----------------------------- ----------- --------------------------------------------------------------------------------------------------\n",
      "absl-py                       1.4.0\n",
      "asttokens                     3.0.0\n",
      "astunparse                    1.6.3\n",
      "async-timeout                 5.0.1\n",
      "attrs                         25.3.0\n",
      "avro-python3                  1.10.2\n",
      "backcall                      0.2.0\n",
      "cachetools                    5.5.2\n",
      "certifi                       2025.7.9\n",
      "charset-normalizer            3.4.2\n",
      "cloudpickle                   2.2.1\n",
      "colorama                      0.4.6\n",
      "comm                          0.2.2\n",
      "contextlib2                   21.6.0\n",
      "contourpy                     1.1.1\n",
      "crcmod                        1.7\n",
      "cycler                        0.12.1\n",
      "Cython                        3.1.2\n",
      "debugpy                       1.8.14\n",
      "decorator                     5.2.1\n",
      "dill                          0.3.1.1\n",
      "dm-tree                       0.1.8\n",
      "dnspython                     2.6.1\n",
      "docopt                        0.6.2\n",
      "etils                         1.3.0\n",
      "executing                     2.2.0\n",
      "fastavro                      1.9.7\n",
      "fasteners                     0.19\n",
      "flatbuffers                   2.0\n",
      "fonttools                     4.57.0\n",
      "gast                          0.4.0\n",
      "gin-config                    0.5.0\n",
      "google-auth                   2.40.3\n",
      "google-auth-oauthlib          0.4.6\n",
      "google-pasta                  0.2.0\n",
      "grpcio                        1.70.0\n",
      "h5py                          3.11.0\n",
      "idna                          3.10\n",
      "immutabledict                 4.2.1\n",
      "importlib_metadata            8.5.0\n",
      "ipykernel                     6.29.5\n",
      "ipython                       8.12.3\n",
      "jedi                          0.19.2\n",
      "joblib                        1.4.2\n",
      "jsonpickle                    3.4.2\n",
      "jupyter_client                8.6.3\n",
      "jupyter_core                  5.8.1\n",
      "keras                         2.10.0\n",
      "Keras-Preprocessing           1.1.2\n",
      "kiwisolver                    1.4.7\n",
      "libclang                      18.1.1\n",
      "lvis                          0.5.3\n",
      "lxml                          6.0.0\n",
      "Markdown                      3.7\n",
      "MarkupSafe                    2.1.5\n",
      "matplotlib                    3.6.3\n",
      "matplotlib-inline             0.1.7\n",
      "nest-asyncio                  1.6.0\n",
      "numpy                         1.24.4\n",
      "oauthlib                      3.3.1\n",
      "object_detection              0.1\n",
      "objsize                       0.6.1\n",
      "opencv-python                 4.12.0.88\n",
      "opt_einsum                    3.4.0\n",
      "orjson                        3.10.15\n",
      "packaging                     25.0\n",
      "pandas                        1.3.5\n",
      "parso                         0.8.4\n",
      "pickleshare                   0.7.5\n",
      "pillow                        10.4.0\n",
      "pip                           25.0.1\n",
      "pkgutil_resolve_name          1.3.10\n",
      "platformdirs                  4.3.6\n",
      "portalocker                   3.0.0\n",
      "promise                       2.3\n",
      "prompt_toolkit                3.0.51\n",
      "proto-plus                    1.26.1\n",
      "protobuf                      3.19.6\n",
      "psutil                        7.0.0\n",
      "pure_eval                     0.2.3\n",
      "py-cpuinfo                    9.0.0\n",
      "pyarrow                       9.0.0\n",
      "pyarrow-hotfix                0.7\n",
      "pyasn1                        0.6.1\n",
      "pyasn1_modules                0.4.2\n",
      "pydot                         1.4.2\n",
      "Pygments                      2.19.2\n",
      "PyJWT                         2.9.0\n",
      "pymongo                       3.13.0\n",
      "pyparsing                     2.4.7\n",
      "PyQt5                         5.15.11\n",
      "PyQt5-Qt5                     5.15.2\n",
      "PyQt5_sip                     12.15.0\n",
      "python-dateutil               2.9.0.post0\n",
      "python-slugify                8.0.4\n",
      "pytz                          2025.2\n",
      "pywin32                       310\n",
      "PyYAML                        5.4.1\n",
      "pyzmq                         27.0.0\n",
      "redis                         5.3.0\n",
      "referencing                   0.35.1\n",
      "regex                         2024.11.6\n",
      "requests                      2.32.4\n",
      "requests-oauthlib             2.0.0\n",
      "rpds-py                       0.20.1\n",
      "rsa                           4.9.1\n",
      "sacrebleu                     2.2.0\n",
      "scipy                         1.10.1\n",
      "sentencepiece                 0.2.0\n",
      "setuptools                    75.3.2\n",
      "six                           1.17.0\n",
      "slim                          0.1         c:\\users\\aaliy\\onedrive\\desktop\\livestream\\realtimeobjectdetection\\tensorflow\\models\\research\\slim\n",
      "stack-data                    0.6.3\n",
      "tabulate                      0.9.0\n",
      "tensorboard                   2.10.1\n",
      "tensorboard-data-server       0.6.1\n",
      "tensorboard-plugin-wit        1.8.1\n",
      "tensorflow                    2.10.0\n",
      "tensorflow-addons             0.21.0\n",
      "tensorflow-estimator          2.10.0\n",
      "tensorflow-hub                0.16.1\n",
      "tensorflow-io                 0.31.0\n",
      "tensorflow-io-gcs-filesystem  0.31.0\n",
      "tensorflow-model-optimization 0.8.0\n",
      "termcolor                     2.4.0\n",
      "text-unidecode                1.3\n",
      "tf-keras                      2.15.0\n",
      "tf-models-official            2.19.1\n",
      "tf-slim                       1.1.0\n",
      "threadpoolctl                 3.5.0\n",
      "toml                          0.10.2\n",
      "tornado                       6.4.2\n",
      "tqdm                          4.67.1\n",
      "traitlets                     5.14.3\n",
      "typeguard                     2.13.3\n",
      "typing_extensions             4.13.2\n",
      "tzdata                        2025.2\n",
      "uritemplate                   4.1.1\n",
      "urllib3                       2.2.3\n",
      "wcwidth                       0.2.13\n",
      "webencodings                  0.5.1\n",
      "Werkzeug                      3.0.6\n",
      "wget                          3.2\n",
      "wheel                         0.45.1\n",
      "wrapt                         1.17.2\n",
      "zipp                          3.20.2\n",
      "zstandard                     0.23.0\n"
     ]
    }
   ],
   "source": [
    "!pip list"
   ]
  },
  {
   "cell_type": "code",
   "execution_count": null,
   "id": "31898982-feb1-4ec1-ad02-a48cf6914fc8",
   "metadata": {},
   "outputs": [],
   "source": []
  }
 ],
 "metadata": {
  "kernelspec": {
   "display_name": "Python 3.8 (objectdetection)",
   "language": "python",
   "name": "objectdetection"
  },
  "language_info": {
   "codemirror_mode": {
    "name": "ipython",
    "version": 3
   },
   "file_extension": ".py",
   "mimetype": "text/x-python",
   "name": "python",
   "nbconvert_exporter": "python",
   "pygments_lexer": "ipython3",
   "version": "3.8.0"
  }
 },
 "nbformat": 4,
 "nbformat_minor": 5
}
